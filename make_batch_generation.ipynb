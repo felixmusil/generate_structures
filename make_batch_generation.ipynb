{
 "cells": [
  {
   "cell_type": "code",
   "execution_count": 1,
   "metadata": {},
   "outputs": [],
   "source": [
    "%matplotlib inline\n",
    "import matplotlib.pyplot as plt\n",
    "import seaborn as sns"
   ]
  },
  {
   "cell_type": "code",
   "execution_count": 2,
   "metadata": {},
   "outputs": [
    {
     "name": "stdout",
     "output_type": "stream",
     "text": [
      "1\n"
     ]
    }
   ],
   "source": [
    "import mkl\n",
    "mkl.set_num_threads(1)\n",
    "print mkl.get_max_threads()"
   ]
  },
  {
   "cell_type": "code",
   "execution_count": 3,
   "metadata": {},
   "outputs": [],
   "source": [
    "import numpy as np\n",
    "import numpy.random as npr\n",
    "import spglib as spg\n",
    "import ase\n",
    "from ase.io import read,write\n",
    "from ase.spacegroup import crystal\n",
    "from ase.visualize import view\n",
    "import cPickle as pck\n",
    "import pandas as pd\n",
    "from tqdm import tqdm_notebook\n",
    "import os,sys,psutil,signal\n",
    "from quippy.potential import Potential, Minim\n",
    "from ase.optimize import  FIRE\n",
    "from ase.constraints import UnitCellFilter"
   ]
  },
  {
   "cell_type": "code",
   "execution_count": 4,
   "metadata": {},
   "outputs": [
    {
     "name": "stderr",
     "output_type": "stream",
     "text": [
      "/home/musil/miniconda/envs/glosim/lib/python2.7/site-packages/h5py/__init__.py:36: FutureWarning: Conversion of the second argument of issubdtype from `float` to `np.floating` is deprecated. In future, it will be treated as `np.float64 == np.dtype(float).type`.\n",
      "  from ._conv import register_converters as _register_converters\n"
     ]
    }
   ],
   "source": [
    "from generate_and_relax_structures import generate_crystal_step_1,generate_crystal_step_1_wrapper\n",
    "from libs.utils import unskewCell,ase2qp,qp2ase,get_standard_frame,isTooClose,isLayered\n",
    "from libs.input_structure import input2crystal,getCellParam\n",
    "from libs.LJ_pressure import (make_LJ_input,LJ_vcrelax,LJ_vcrelax_alternative,vc_relax_qp,AtomSeparator,\n",
    "                              vc_relax_ase,get_LJ_parameters,make_LJ_input)\n",
    "from libs.raw_data import z2symb,z2VdWradius,z2Covalentradius,SG2BravaisLattice,WyckTable,z2epsilon"
   ]
  },
  {
   "cell_type": "code",
   "execution_count": 5,
   "metadata": {},
   "outputs": [],
   "source": [
    "import sys\n",
    "sys.path.insert(0,'/local/git/glosim2/')\n",
    "from libmatch.soap import get_Soaps\n",
    "from libmatch.utils import get_soapSize,get_spkit,get_spkitMax,ase2qp,qp2ase\n",
    "from libmatch.chemical_kernel import deltaKernel,PartialKernels\n",
    "from GlobalSimilarity import get_environmentalKernels,get_globalKernel"
   ]
  },
  {
   "cell_type": "code",
   "execution_count": 6,
   "metadata": {},
   "outputs": [],
   "source": [
    "d2r = np.pi/180."
   ]
  },
  {
   "cell_type": "markdown",
   "metadata": {
    "heading_collapsed": true
   },
   "source": [
    "# enthalpy"
   ]
  },
  {
   "cell_type": "code",
   "execution_count": 10,
   "metadata": {
    "hidden": true
   },
   "outputs": [],
   "source": [
    "import sympy as sp"
   ]
  },
  {
   "cell_type": "code",
   "execution_count": 14,
   "metadata": {
    "hidden": true
   },
   "outputs": [],
   "source": [
    "sp.init_printing() "
   ]
  },
  {
   "cell_type": "markdown",
   "metadata": {
    "hidden": true
   },
   "source": [
    "$H = U + pV$\n",
    "\n",
    "perfect gaz -> $pV=cst$\n",
    "\n",
    "$\\Delta H_f = \\int dU = \\int_{\\infty}^{r_m} F_{LJ}(r)dr = - \\int_{\\infty}^{r_m} \\frac{V_{LJ}(r)}{dr}dr  $\n",
    "\n",
    "$\\Delta H_f = - (V_{LJ}(r_m) - V_{LJ}(\\infty)) = - V_{LJ}(r_m) = -\\epsilon\\left(1^{12}-2*1^{6}\\right) =   \\epsilon$\n"
   ]
  },
  {
   "cell_type": "code",
   "execution_count": 5,
   "metadata": {
    "hidden": true
   },
   "outputs": [
    {
     "name": "stdout",
     "output_type": "stream",
     "text": [
      "{1: 2.2593901062472397, 2: 0.000470937100895, 3: 1.6510281925760115, 4: 3.3580234425274806, 5: 5.855812484654403, 6: 7.429834151989738, 7: 4.896495664159516, 8: 2.58307661900519, 9: 0.8222493512744372, 10: 0.0031738489227930004, 11: 1.1141590125669882, 12: 1.5245840999870135, 13: 3.4295369047294546, 14: 4.663921447954834, 15: 3.2802914183949, 16: 2.872664683843648, 17: 1.2572066655107053, 18: 0.01006590352343, 19: 0.9224200197066228, 20: 1.8427671854363767, 21: 3.915621162305192, 22: 4.9022996552947475, 23: 5.342781125379371, 24: 4.119589993629083, 25: 2.936197658234677, 26: 4.306354136944964, 27: 4.422433959649617, 28: 4.457672477256387, 29: 3.496904658977691, 30: 1.3515007929184675, 31: 2.8186668377462145, 32: 3.8555083969759965, 33: 3.135191640014083, 34: 2.354762117722974, 35: 1.1592435865638848, 36: 0.01418067874168, 37: 0.8384694336434358, 38: 1.6997402610324284, 39: 4.401705419880929, 40: 6.322204629449886, 41: 7.597009825224208, 42: 6.82984656838506, 43: 7.026974981585283, 44: 6.742993986754256, 45: 5.762534055695307, 46: 3.903184038443979, 47: 2.952780490049627, 48: 1.1587253730696676, 49: 2.5185175818956105, 50: 3.1217180891644354, 51: 2.7403129574205733, 52: 2.0376154592620455, 53: 1.1064583600429205, 54: 0.01880129124854, 55: 0.7928666461523218, 56: 1.856240736286024, 57: 4.467000320152297, 58: 4.354029778412946, 59: 3.6990079217224006, 60: 3.388079825192078, 62: 2.1422945850939206, 63: 1.838621477482639, 64: 4.11979727902677, 65: 4.028591704044542, 66: 3.0097839744135193, 67: 3.1154995272338293, 68: 3.2792549914064653, 69: 2.4065834671446944, 70: 1.6126803940039383, 71: 4.431761802545527, 72: 6.409264496478376, 73: 8.104859049557067, 74: 8.819993671576809, 75: 8.021944890482315, 76: 8.156680398978787, 77: 6.933696552626187, 78: 5.8630674735734445, 79: 3.8161241714154888, 80: 0.6361588855010394, 81: 1.8883699729274905, 82: 2.0231054814239635, 83: 2.1723509677585184}\n"
     ]
    }
   ],
   "source": [
    "print z2epsilon"
   ]
  },
  {
   "cell_type": "markdown",
   "metadata": {},
   "source": [
    "# Func"
   ]
  },
  {
   "cell_type": "code",
   "execution_count": 7,
   "metadata": {
    "code_folding": [
     0
    ]
   },
   "outputs": [],
   "source": [
    "def compare(frame1,frame2):\n",
    "    centerweight  = 1.\n",
    "    gaussian_width = 0.1\n",
    "    cutoff = 3.5\n",
    "    cutoff_transition_width = 0.5\n",
    "    nmax = 8\n",
    "    lmax = 6\n",
    "    nocenters = []\n",
    "    is_fast_average = False\n",
    "\n",
    "    soap_params = {\n",
    "              'centerweight': centerweight, \n",
    "              'gaussian_width': gaussian_width,'cutoff': cutoff, \n",
    "              'cutoff_transition_width': cutoff_transition_width,\n",
    "              'nmax': nmax, 'lmax': lmax, 'is_fast_average':is_fast_average,\n",
    "              'chem_channels': True ,'nocenters': nocenters,'dispbar':True,\n",
    "                   }\n",
    "    ff = []\n",
    "    for frame in [frame1,frame2]:\n",
    "        ff.append(ase2qp(frame))\n",
    "     \n",
    "    envk = get_environmentalKernels(ff,nthreads=1, nprocess=1, nchunks=1,**soap_params)\n",
    "    gkern = get_globalKernel(envk, kernel_type='average', zeta=4, gamma=1.0, eps=1e-06, \n",
    "                             nthreads=8, normalize_global_kernel=True)\n",
    "    \n",
    "    return gkern[0,1]"
   ]
  },
  {
   "cell_type": "code",
   "execution_count": 8,
   "metadata": {
    "code_folding": [
     0
    ]
   },
   "outputs": [],
   "source": [
    "def get_Nsoap(spkitMax,nmax,lmax):\n",
    "    Nsoap = 0\n",
    "    for sp1 in spkitMax:\n",
    "        for sp2 in spkitMax:\n",
    "            if sp1 == sp2:\n",
    "                Nsoap += nmax*(nmax+1)*(lmax+1) / 2 \n",
    "            elif sp1 > sp2:\n",
    "                Nsoap += nmax**2*(lmax+1)\n",
    "    return Nsoap + 1 \n",
    "def get_fingerprints(frames,soap_params,nprocess):\n",
    "    fings = get_Soaps(frames, nprocess=nprocess, **soap_params)\n",
    "    N = len(frames)\n",
    "    Nsoap = get_Nsoap(get_spkitMax(frames),soap_params['nmax'],soap_params['lmax'])\n",
    "    soaps = np.zeros((N,Nsoap))\n",
    "    ii = 0\n",
    "    for iframe,fing in enumerate(fings):\n",
    "        soaps[iframe] = fing['AVG']\n",
    "        \n",
    "    return soaps"
   ]
  },
  {
   "cell_type": "code",
   "execution_count": 9,
   "metadata": {
    "code_folding": [
     0,
     7,
     64,
     73,
     80
    ]
   },
   "outputs": [],
   "source": [
    "def s2hms(time):\n",
    "    m = time // 60\n",
    "    s = int(time % 60)\n",
    "    h = int(m // 60)\n",
    "    m = int(m % 60)\n",
    "    return '{:02d}:{:02d}:{:02d} (h:m:s)'.format(h,m,s)\n",
    "\n",
    "def fpsSelection(data=None,distance_func=None,threshold=3e-3,Nmin=0,Nmax=20,seed=None):\n",
    "    import numpy.random as npr\n",
    "    from tqdm import tqdm_notebook\n",
    "    nbOfFrames,Nfeature = data.shape \n",
    "    \n",
    "    if seed is None:\n",
    "        isel = 0\n",
    "    else:\n",
    "        npr.seed(seed)\n",
    "        isel = npr.randint(0,nbOfFrames)    \n",
    "    \n",
    "    ldist = 1e100*np.ones(nbOfFrames,float)\n",
    "    dsel = np.zeros(nbOfFrames,float)\n",
    "    idx_to_compute = np.ones(nbOfFrames,bool)\n",
    "    idx_to_ignore = np.zeros(nbOfFrames,bool)\n",
    "    \n",
    "    LandmarksIdx = []\n",
    "    \n",
    "    \n",
    "    nsel = 0\n",
    "    Nidx = 0\n",
    "    cond = True\n",
    "    pbar = tqdm_notebook(total=nbOfFrames)\n",
    "    while cond:\n",
    "        LandmarksIdx.append(isel)\n",
    "        Nidx += 1\n",
    "        idx_to_compute[isel] = False\n",
    "        idx_to_ignore[isel] = True\n",
    "        dsel.fill(0.)\n",
    "        \n",
    "        imax = 0       \n",
    "        distLine = distance_func(data[isel,:].reshape((1,Nfeature)),\n",
    "                                 data[idx_to_compute,:].reshape((-1,Nfeature)))\n",
    "        \n",
    "        dsel[idx_to_compute] = distLine.reshape((-1,))\n",
    "        \n",
    "        low = (dsel < ldist) * idx_to_compute\n",
    "        ldist[low] = dsel[low]\n",
    "        \n",
    "        ldist[idx_to_ignore] = 0.\n",
    "        isel = ldist.argmax()\n",
    "        \n",
    "        ids = (dsel < threshold) * idx_to_compute\n",
    "        \n",
    "        idx_to_compute[ids] = False\n",
    "        idx_to_ignore[ids] = True\n",
    "        \n",
    "        if Nidx >= Nmin :\n",
    "            if ldist[isel] < threshold:\n",
    "                cond = False\n",
    "            elif Nidx >= Nmax:\n",
    "                cond = False\n",
    "        pbar.update()\n",
    "    pbar.close()\n",
    "        \n",
    "    return LandmarksIdx\n",
    "\n",
    "def distance_func(XA,XB):\n",
    "    #mkl.set_num_threads(10)\n",
    "    kernel = np.dot(XB,XA.T)\n",
    "    # the feature vectors are normalized\n",
    "    dd = 2 - 2 * kernel\n",
    "    dd[dd<0.] = 0.\n",
    "    distance = np.sqrt(dd)\n",
    "    return distance\n",
    "\n",
    "def distance_func2(kernel):\n",
    "    # the feature vectors are normalized\n",
    "    dd = 2 - 2 * kernel\n",
    "    dd[dd<0.] = 0.\n",
    "    distance = np.sqrt(dd)\n",
    "    return distance\n",
    "\n",
    "def fpsSelection_with_restart(data=None,distance_func=None,restart_ref=None,disable_pbar=False,nthread=10,\n",
    "                              intermediate_copy=True,stride=100,threshold=3e-3,Nmin=0,Nmax=20,seed=None,fn=None):\n",
    "    import numpy.random as npr\n",
    "    import cPickle as pck\n",
    "    from tqdm import tqdm_notebook\n",
    "    try:\n",
    "        import mkl\n",
    "        mkl.set_num_threads(nthread)\n",
    "    except:\n",
    "        pass\n",
    "    \n",
    "    if fn is None:\n",
    "        fn = 'restart_ref_thr{}.pck'.format(threshold)\n",
    "    \n",
    "    nbOfFrames,Nfeature = data.shape \n",
    "    \n",
    "    if nbOfFrames == Nfeature:\n",
    "        iskernel = True\n",
    "    else:\n",
    "        iskernel = False\n",
    "    \n",
    "    if seed is None:\n",
    "        isel = 0\n",
    "    else:\n",
    "        npr.seed(seed)\n",
    "        isel = npr.randint(0,nbOfFrames)    \n",
    "    \n",
    "    dsel = np.zeros(nbOfFrames,float)\n",
    "    idx_to_compute = np.ones(nbOfFrames,bool)\n",
    "    idx_to_ignore = np.zeros(nbOfFrames,bool)\n",
    "    \n",
    "    if restart_ref is None:\n",
    "        ldist = 1e100*np.ones(nbOfFrames,float)\n",
    "        LandmarksIdx = []\n",
    "        minmax = []\n",
    "    else:\n",
    "        LandmarksIdx = restart_ref['LandmarksIdx'][:-1]\n",
    "        ldist = restart_ref['ldist']\n",
    "        isel = restart_ref['LandmarksIdx'][-1]\n",
    "        minmax = restart_ref['minmax']\n",
    "        idx_to_compute[LandmarksIdx] = False\n",
    "        idx_to_ignore[LandmarksIdx] = True\n",
    "        \n",
    "    Nidx = len(LandmarksIdx)\n",
    "    cond = True\n",
    "    pbar = tqdm_notebook(total=Nmax,disable=disable_pbar)\n",
    "    \n",
    "    while cond:\n",
    "        \n",
    "        LandmarksIdx.append(isel)\n",
    "        \n",
    "        if Nidx % (stride-1) == 0:\n",
    "            with open(fn,'wb') as f:\n",
    "                pck.dump({'LandmarksIdx':LandmarksIdx,'ldist':ldist,'minmax':minmax},f,protocol=pck.HIGHEST_PROTOCOL)\n",
    "        \n",
    "        Nidx += 1\n",
    "        idx_to_compute[isel] = False\n",
    "        idx_to_ignore[isel] = True\n",
    "        dsel.fill(0.)\n",
    "        \n",
    "        imax = 0       \n",
    "        if iskernel:\n",
    "            distLine = distance_func(data[isel,idx_to_compute])\n",
    "            dsel[idx_to_compute] = distLine\n",
    "        else:\n",
    "            if intermediate_copy:\n",
    "                distLine = distance_func(data[isel,:].reshape((1,Nfeature)),\n",
    "                                         data[idx_to_compute,:].reshape((-1,Nfeature)))\n",
    "                dsel[idx_to_compute] = distLine.reshape((-1,))\n",
    "            else:\n",
    "                distLine = distance_func(data[isel,:].reshape((1,Nfeature)),data)\n",
    "                dsel = distLine.reshape((-1,))\n",
    "        \n",
    "        \n",
    "        low = (dsel < ldist) * idx_to_compute\n",
    "        ldist[low] = dsel[low]\n",
    "        \n",
    "        ldist[idx_to_ignore] = 0.\n",
    "        isel = ldist.argmax()\n",
    "        minmax.append(ldist[isel])\n",
    "        ids = (dsel < threshold) * idx_to_compute\n",
    "        \n",
    "        idx_to_compute[ids] = False\n",
    "        idx_to_ignore[ids] = True\n",
    "        \n",
    "        if Nidx >= Nmin :\n",
    "            if ldist[isel] < threshold:\n",
    "                cond = False\n",
    "            elif Nidx >= Nmax:\n",
    "                cond = False\n",
    "        \n",
    "        pbar.update()\n",
    "    pbar.close()\n",
    "    return LandmarksIdx,minmax"
   ]
  },
  {
   "cell_type": "markdown",
   "metadata": {},
   "source": [
    "# data"
   ]
  },
  {
   "cell_type": "code",
   "execution_count": 10,
   "metadata": {},
   "outputs": [],
   "source": [
    "with open('./structures/structures_downsampled.pck','rb') as f:\n",
    "    crystals = pck.load(f)"
   ]
  },
  {
   "cell_type": "code",
   "execution_count": 11,
   "metadata": {},
   "outputs": [],
   "source": [
    "# view(crystals)"
   ]
  },
  {
   "cell_type": "markdown",
   "metadata": {
    "heading_collapsed": true
   },
   "source": [
    "## downsample fps"
   ]
  },
  {
   "cell_type": "code",
   "execution_count": 10,
   "metadata": {
    "hidden": true
   },
   "outputs": [],
   "source": [
    "with open('./structures/structures_141117.pck','rb') as f:\n",
    "    crystals = pck.load(f)"
   ]
  },
  {
   "cell_type": "code",
   "execution_count": null,
   "metadata": {
    "hidden": true
   },
   "outputs": [],
   "source": [
    "view(crystals)"
   ]
  },
  {
   "cell_type": "code",
   "execution_count": 12,
   "metadata": {
    "hidden": true
   },
   "outputs": [
    {
     "data": {
      "application/vnd.jupyter.widget-view+json": {
       "model_id": "e77647692e61418da31bce8eaf2d5cff",
       "version_major": 2,
       "version_minor": 0
      },
      "text/html": [
       "<p>Failed to display Jupyter Widget of type <code>HBox</code>.</p>\n",
       "<p>\n",
       "  If you're reading this message in the Jupyter Notebook or JupyterLab Notebook, it may mean\n",
       "  that the widgets JavaScript is still loading. If this message persists, it\n",
       "  likely means that the widgets JavaScript library is either not installed or\n",
       "  not enabled. See the <a href=\"https://ipywidgets.readthedocs.io/en/stable/user_install.html\">Jupyter\n",
       "  Widgets Documentation</a> for setup instructions.\n",
       "</p>\n",
       "<p>\n",
       "  If you're reading this message in another frontend (for example, a static\n",
       "  rendering on GitHub or <a href=\"https://nbviewer.jupyter.org/\">NBViewer</a>),\n",
       "  it may mean that your frontend doesn't currently support widgets.\n",
       "</p>\n"
      ],
      "text/plain": [
       "HBox(children=(IntProgress(value=0, description=u'SOAP vectors', max=855), HTML(value=u'')))"
      ]
     },
     "metadata": {},
     "output_type": "display_data"
    },
    {
     "name": "stdout",
     "output_type": "stream",
     "text": [
      "\n"
     ]
    }
   ],
   "source": [
    "soap_params = dict(nmax= 9, cutoff= 4, gaussian_width= 0.4, lmax= 9,\n",
    "        centerweight = 1.,cutoff_transition_width = 0.5,\n",
    "        nocenters = [],is_fast_average=True,chem_channels=False,dispbar=False\n",
    "                      )\n",
    "nprocess = 4\n",
    "\n",
    "fings = get_fingerprints([ase2qp(crystal) for crystal in crystals],soap_params,nprocess)"
   ]
  },
  {
   "cell_type": "code",
   "execution_count": 13,
   "metadata": {
    "hidden": true
   },
   "outputs": [],
   "source": [
    "kernel = np.dot(fings,fings.T)"
   ]
  },
  {
   "cell_type": "code",
   "execution_count": 14,
   "metadata": {
    "hidden": true
   },
   "outputs": [
    {
     "data": {
      "application/vnd.jupyter.widget-view+json": {
       "model_id": "f03c3d5c21754775a5380f3feb13f88e",
       "version_major": 2,
       "version_minor": 0
      },
      "text/html": [
       "<p>Failed to display Jupyter Widget of type <code>HBox</code>.</p>\n",
       "<p>\n",
       "  If you're reading this message in the Jupyter Notebook or JupyterLab Notebook, it may mean\n",
       "  that the widgets JavaScript is still loading. If this message persists, it\n",
       "  likely means that the widgets JavaScript library is either not installed or\n",
       "  not enabled. See the <a href=\"https://ipywidgets.readthedocs.io/en/stable/user_install.html\">Jupyter\n",
       "  Widgets Documentation</a> for setup instructions.\n",
       "</p>\n",
       "<p>\n",
       "  If you're reading this message in another frontend (for example, a static\n",
       "  rendering on GitHub or <a href=\"https://nbviewer.jupyter.org/\">NBViewer</a>),\n",
       "  it may mean that your frontend doesn't currently support widgets.\n",
       "</p>\n"
      ],
      "text/plain": [
       "HBox(children=(IntProgress(value=0, max=855), HTML(value=u'')))"
      ]
     },
     "metadata": {},
     "output_type": "display_data"
    },
    {
     "name": "stdout",
     "output_type": "stream",
     "text": [
      "\n"
     ]
    }
   ],
   "source": [
    "fps_ids, minmax = fpsSelection_with_restart(data=kernel,distance_func=distance_func2,restart_ref=None,disable_pbar=False,nthread=10,\n",
    "                              intermediate_copy=True,stride=10000,threshold=1e-9,Nmin=0,Nmax=kernel.shape[0],seed=None,\n",
    "                                           fn=None)"
   ]
  },
  {
   "cell_type": "code",
   "execution_count": 22,
   "metadata": {
    "hidden": true
   },
   "outputs": [
    {
     "data": {
      "image/png": "[encoded data removed]",
      "text/plain": [
       "<matplotlib.figure.Figure at 0x7f0884fd6e10>"
      ]
     },
     "metadata": {},
     "output_type": "display_data"
    }
   ],
   "source": [
    "plt.plot(minmax[:220],'ob',ms=1)\n",
    "plt.yscale('log')"
   ]
  },
  {
   "cell_type": "code",
   "execution_count": 23,
   "metadata": {
    "hidden": true
   },
   "outputs": [],
   "source": [
    "ref_cc = [crystals[it] for it in fps_ids[:220]]"
   ]
  },
  {
   "cell_type": "code",
   "execution_count": 25,
   "metadata": {
    "hidden": true
   },
   "outputs": [],
   "source": [
    "with open('./structures/structures_downsampled.pck','wb') as f:\n",
    "    pck.dump(ref_cc,f,protocol=pck.HIGHEST_PROTOCOL)"
   ]
  },
  {
   "cell_type": "markdown",
   "metadata": {},
   "source": [
    "# Make the batch crystal generation procedure"
   ]
  },
  {
   "cell_type": "markdown",
   "metadata": {
    "heading_collapsed": true
   },
   "source": [
    "## tests on some MP structures"
   ]
  },
  {
   "cell_type": "code",
   "execution_count": 11,
   "metadata": {
    "hidden": true
   },
   "outputs": [],
   "source": [
    "seed = 54565\n",
    "np.random.seed(seed)"
   ]
  },
  {
   "cell_type": "code",
   "execution_count": 30,
   "metadata": {
    "hidden": true
   },
   "outputs": [
    {
     "name": "stdout",
     "output_type": "stream",
     "text": [
      "202 ['i']\n"
     ]
    }
   ],
   "source": [
    "vdw_ratio = 1.5\n",
    "sites_z = [14]\n",
    "sg = 227 # 202\n",
    "wycks = [8] # [0]\n",
    "sg = 202\n",
    "wycks = [0]\n",
    "cc, sg, wyckoff_letters = input2crystal(sites_z ,seed ,vdw_ratio, sg=sg,wycks=wycks)\n",
    "view(cc)\n",
    "print sg,wyckoff_letters"
   ]
  },
  {
   "cell_type": "code",
   "execution_count": 34,
   "metadata": {
    "collapsed": true,
    "hidden": true
   },
   "outputs": [
    {
     "name": "stdout",
     "output_type": "stream",
     "text": [
      "202 ['i', 'i', 'i', 'i', 'i', 'i', 'i', 'i', 'i', 'i', 'i', 'i', 'i', 'i', 'i', 'i', 'i', 'i', 'i', 'i', 'i', 'i', 'i', 'i', 'i', 'i', 'i', 'i', 'i', 'i', 'i', 'i', 'i', 'i', 'i', 'i', 'i', 'i', 'i', 'i', 'i', 'i', 'i', 'i', 'i', 'i', 'i', 'i', 'i', 'i', 'i', 'i', 'i', 'i', 'i', 'i', 'i', 'i', 'i', 'i', 'i', 'i', 'i', 'i', 'i', 'i', 'i', 'i', 'i', 'i', 'i', 'i', 'i', 'i', 'i', 'i', 'i', 'i', 'i', 'i', 'i', 'i', 'i', 'i', 'i', 'i', 'i', 'i', 'i', 'i', 'i', 'i', 'i', 'i', 'i', 'i'] [0 0 0 0 0 0 0 0 0 0 0 0 0 0 0 0 0 0 0 0 0 0 0 0 0 0 0 0 0 0 0 0 0 0 0 0 0\n",
      " 0 0 0 0 0 0 0 0 0 0 0 0 0 0 0 0 0 0 0 0 0 0 0 0 0 0 0 0 0 0 0 0 0 0 0 0 0\n",
      " 0 0 0 0 0 0 0 0 0 0 0 0 0 0 0 0 0 0 0 0 0 0]\n"
     ]
    }
   ],
   "source": [
    "sym_data = spg.get_symmetry_dataset(cc)\n",
    "print sym_data['number'],sym_data['wyckoffs'],sym_data['equivalent_atoms']"
   ]
  },
  {
   "cell_type": "code",
   "execution_count": 35,
   "metadata": {
    "collapsed": true,
    "hidden": true
   },
   "outputs": [
    {
     "name": "stdout",
     "output_type": "stream",
     "text": [
      "202 ['i', 'i', 'i', 'i', 'i', 'i', 'i', 'i', 'h', 'i', 'i', 'i', 'h', 'i', 'i', 'i', 'i', 'i', 'i', 'i', 'i', 'i', 'h', 'i', 'i', 'i', 'i', 'h', 'i', 'i', 'i', 'i', 'i', 'h', 'i', 'i', 'h', 'i', 'i', 'i', 'i', 'i', 'h', 'i', 'h', 'i', 'i', 'i', 'i', 'h', 'h', 'i', 'i', 'i', 'i', 'i', 'i', 'h', 'i', 'h', 'i', 'i', 'i', 'i', 'i', 'i', 'i', 'i', 'h', 'i', 'i', 'i', 'h', 'i', 'i', 'i', 'i', 'i', 'i', 'i', 'i', 'i', 'h', 'i', 'i', 'i', 'i', 'h', 'i', 'i', 'i', 'i', 'i', 'h', 'i', 'i', 'h', 'i', 'i', 'i', 'i', 'i', 'h', 'i', 'h', 'i', 'i', 'i', 'i', 'h', 'h', 'i', 'i', 'i', 'i', 'i', 'i', 'h', 'i', 'h', 'i', 'i', 'i', 'i', 'i', 'i', 'i', 'i', 'h', 'i', 'i', 'i', 'h', 'i', 'i', 'i', 'i', 'i', 'i', 'i', 'i', 'i', 'h', 'i', 'i', 'i', 'i', 'h', 'i', 'i', 'i', 'i', 'i', 'h', 'i', 'i', 'h', 'i', 'i', 'i', 'i', 'i', 'h', 'i', 'h', 'i', 'i', 'i', 'i', 'h', 'h', 'i', 'i', 'i', 'i', 'i', 'i', 'h', 'i', 'h', 'i', 'i', 'i', 'i', 'i', 'i', 'i', 'i', 'h', 'i', 'i', 'i', 'h', 'i', 'i', 'i', 'i', 'i', 'i', 'i', 'i', 'i', 'h', 'i', 'i', 'i', 'i', 'h', 'i', 'i', 'i', 'i', 'i', 'h', 'i', 'i', 'h', 'i', 'i', 'i', 'i', 'i', 'h', 'i', 'h', 'i', 'i', 'i', 'i', 'h', 'h', 'i', 'i', 'i', 'i', 'i', 'i', 'h', 'i', 'h'] [0 0 2 0 0 2 0 2 8 2 0 2 8 0 0 0 2 0 0 0 2 0 8 2 2 0 0 8 2 0 2 2 2 8 2 0 8\n",
      " 2 2 2 0 2 8 2 8 2 0 0 2 8 8 0 0 2 2 0 2 8 0 8 0 0 2 0 0 2 0 2 8 2 0 2 8 0\n",
      " 0 0 2 0 0 0 2 0 8 2 2 0 0 8 2 0 2 2 2 8 2 0 8 2 2 2 0 2 8 2 8 2 0 0 2 8 8\n",
      " 0 0 2 2 0 2 8 0 8 0 0 2 0 0 2 0 2 8 2 0 2 8 0 0 0 2 0 0 0 2 0 8 2 2 0 0 8\n",
      " 2 0 2 2 2 8 2 0 8 2 2 2 0 2 8 2 8 2 0 0 2 8 8 0 0 2 2 0 2 8 0 8 0 0 2 0 0\n",
      " 2 0 2 8 2 0 2 8 0 0 0 2 0 0 0 2 0 8 2 2 0 0 8 2 0 2 2 2 8 2 0 8 2 2 2 0 2\n",
      " 8 2 8 2 0 0 2 8 8 0 0 2 2 0 2 8 0 8]\n"
     ]
    }
   ],
   "source": [
    "dd = read('/home/musil/Downloads/'+'C_mp-667273_conventional_standard.cif')\n",
    "sym_data = spg.get_symmetry_dataset(dd)\n",
    "print sym_data['number'],sym_data['wyckoffs'],sym_data['equivalent_atoms']"
   ]
  },
  {
   "cell_type": "code",
   "execution_count": 42,
   "metadata": {
    "hidden": true
   },
   "outputs": [
    {
     "name": "stdout",
     "output_type": "stream",
     "text": [
      "[8]\n",
      "227 ['a']\n"
     ]
    }
   ],
   "source": [
    "vdw_ratio = 10\n",
    "sites_z = [14]\n",
    "sg = 227 # 202\n",
    "wycks = [8] # [0]\n",
    "cc, sg, wyckoff_letters = input2crystal(sites_z ,seed ,vdw_ratio, sg=sg,wycks=wycks)\n",
    "view(cc)\n",
    "print sg,wyckoff_letters"
   ]
  },
  {
   "cell_type": "code",
   "execution_count": 11,
   "metadata": {
    "hidden": true
   },
   "outputs": [
    {
     "name": "stdout",
     "output_type": "stream",
     "text": [
      "12 ['i', 'i', 'i', 'i'] [0 0 0 0]\n"
     ]
    }
   ],
   "source": [
    "dd = read('/home/musil/Downloads/'+'C_mp-632329_symmetrized.cif')\n",
    "sym_data = spg.get_symmetry_dataset(dd)\n",
    "print sym_data['number'],sym_data['wyckoffs'],sym_data['equivalent_atoms']"
   ]
  },
  {
   "cell_type": "code",
   "execution_count": 12,
   "metadata": {
    "hidden": true
   },
   "outputs": [
    {
     "name": "stdout",
     "output_type": "stream",
     "text": [
      "12 ['i']\n"
     ]
    }
   ],
   "source": [
    "vdw_ratio = 1.5\n",
    "sites_z = [14]\n",
    "sg = 12 # 202\n",
    "wycks = [1] # [0]\n",
    "cc, sg, wyckoff_letters = input2crystal(sites_z ,vdw_ratio= vdw_ratio, sg=sg,wycks=wycks)\n",
    "view(cc)\n",
    "print sg,wyckoff_letters"
   ]
  },
  {
   "cell_type": "code",
   "execution_count": 20,
   "metadata": {
    "hidden": true
   },
   "outputs": [],
   "source": [
    "cc = new_crystals[55]\n",
    "view(cc)"
   ]
  },
  {
   "cell_type": "code",
   "execution_count": 18,
   "metadata": {
    "hidden": true
   },
   "outputs": [],
   "source": [
    "from quippy.potential import Potential\n",
    "dd = ase2qp(cc)\n",
    "\n",
    "LJ_parameters = get_LJ_parameters(dd)\n",
    "max_cutoff = LJ_parameters['cutoffs'].max()\n",
    "param_str = make_LJ_input(dd, LJ_parameters)\n",
    "pot = Potential('IP LJ', param_str=param_str)\n",
    "dd.set_calculator(pot)\n",
    "dd.set_cutoff(max_cutoff, 0.5)\n",
    "\n",
    "sep = AtomSeparator(dd)\n",
    "sep.run(Nmax=20)\n",
    "\n",
    "# ee = vc_relax_qp(dd,isotropic_external_pressure=1e-2, fmax=5e-3, steps=1e4)\n",
    "ee = vc_relax_ase(dd, isotropic_external_pressure=1e-2,\n",
    "                         fmax=5e-3, steps=5e5)\n",
    "view(unskewCell(ee))"
   ]
  },
  {
   "cell_type": "code",
   "execution_count": 21,
   "metadata": {
    "hidden": true
   },
   "outputs": [],
   "source": [
    "ee = LJ_vcrelax_alternative(cc,isotropic_external_pressure=1e-2,debug=False)\n",
    "view(ee)"
   ]
  },
  {
   "cell_type": "code",
   "execution_count": 40,
   "metadata": {
    "hidden": true
   },
   "outputs": [
    {
     "name": "stdout",
     "output_type": "stream",
     "text": [
      "[1 1 2]\n"
     ]
    }
   ],
   "source": [
    "aspect_ratio = 0.75\n",
    "length = ee.get_cell_lengths_and_angles()[:3]\n",
    "\n",
    "rr = np.ones(3, int)\n",
    "\n",
    "for it in range(3):\n",
    "    mask = length / length[it] < aspect_ratio\n",
    "    if np.any(mask):\n",
    "        rr[it] = 2\n",
    "print rr"
   ]
  },
  {
   "cell_type": "code",
   "execution_count": 32,
   "metadata": {
    "hidden": true
   },
   "outputs": [],
   "source": [
    "view(dd)"
   ]
  },
  {
   "cell_type": "markdown",
   "metadata": {},
   "source": [
    "## run"
   ]
  },
  {
   "cell_type": "code",
   "execution_count": 11,
   "metadata": {},
   "outputs": [],
   "source": [
    "from libs.LJ_pressure import vc_relax_ase,vc_relax_qp,get_LJ_parameters,make_LJ_input,AtomSeparator\n",
    "from libs.utils import stdchannel_to_null"
   ]
  },
  {
   "cell_type": "code",
   "execution_count": 14,
   "metadata": {},
   "outputs": [],
   "source": [
    "np.random.seed(10)\n",
    "sites_z = [14]\n",
    "crystal, sg, wyckoff_letters = input2crystal(sites_z)\n",
    "    \n",
    "crystal = unskewCell(crystal)\n",
    "dd = ase2qp(crystal)\n",
    "\n",
    "# get the string to setup the quippy LJ potential (parameters and species)\n",
    "LJ_parameters = get_LJ_parameters(dd)\n",
    "max_cutoff = max(LJ_parameters['cutoffs'].values())*1.1\n",
    "thr = min(LJ_parameters['cutoffs'].values())\n",
    "param_str = make_LJ_input(dd, LJ_parameters)\n",
    "\n",
    "pot = Potential('IP LJ', param_str=param_str)\n",
    "\n",
    "sites_z = np.unique(crystal.get_atomic_numbers())\n",
    "thr = np.min([z2Covalentradius[z] for z in sites_z])\n",
    "\n",
    "dd.set_calculator(pot)\n",
    "dd.set_cutoff(max_cutoff, 0.5)\n",
    "\n",
    "sep = AtomSeparator(dd)\n",
    "sep.run(Nmax=20)\n"
   ]
  },
  {
   "cell_type": "code",
   "execution_count": 15,
   "metadata": {},
   "outputs": [],
   "source": [
    "vc_relax_ase(dd, fmax=5e-1, steps=1e4)\n",
    "\n",
    "vc_relax_ase(dd, isotropic_external_pressure=20,\n",
    "                             relax_positions=False,fmax=5e-5, steps=1e3)\n",
    "view(dd)"
   ]
  },
  {
   "cell_type": "code",
   "execution_count": 120,
   "metadata": {},
   "outputs": [
    {
     "name": "stdout",
     "output_type": "stream",
     "text": [
      "6\n"
     ]
    }
   ],
   "source": [
    "for iii in range(100):\n",
    "    if isLayered(dd,cutoff=thr*1.5, aspect_ratio=0.75):\n",
    "        vc_relax_ase(dd, fmax=5e-1, steps=1e4)\n",
    "\n",
    "        vc_relax_ase(dd, isotropic_external_pressure=20,\n",
    "                     relax_positions=False,fmax=5e-5, steps=1e3)\n",
    "    else:\n",
    "        break\n",
    "print iii\n",
    "view(dd)"
   ]
  },
  {
   "cell_type": "code",
   "execution_count": 121,
   "metadata": {},
   "outputs": [
    {
     "data": {
      "text/plain": [
       "<Atoms object at 0x7fadc31cdd50 fpointer=(1789871280, 22080)>"
      ]
     },
     "execution_count": 121,
     "metadata": {},
     "output_type": "execute_result"
    }
   ],
   "source": [
    "vc_relax_ase(dd, fmax=5e-4, steps=1e4)"
   ]
  },
  {
   "cell_type": "code",
   "execution_count": 105,
   "metadata": {},
   "outputs": [
    {
     "name": "stdout",
     "output_type": "stream",
     "text": [
      "[13.61955182 13.61955182 13.61955182 90.         90.         90.        ]\n"
     ]
    }
   ],
   "source": [
    "print dd.get_cell_lengths_and_angles()"
   ]
  },
  {
   "cell_type": "code",
   "execution_count": 122,
   "metadata": {},
   "outputs": [],
   "source": [
    "view(dd)"
   ]
  },
  {
   "cell_type": "code",
   "execution_count": 107,
   "metadata": {},
   "outputs": [
    {
     "data": {
      "text/plain": [
       "(229, ['l'])"
      ]
     },
     "execution_count": 107,
     "metadata": {},
     "output_type": "execute_result"
    }
   ],
   "source": [
    "sg, wyckoff_letters"
   ]
  },
  {
   "cell_type": "code",
   "execution_count": 108,
   "metadata": {},
   "outputs": [
    {
     "name": "stdout",
     "output_type": "stream",
     "text": [
      "229 ['l', 'l', 'l', 'l', 'l', 'l', 'l', 'l', 'l', 'l', 'l', 'l', 'l', 'l', 'l', 'l', 'l', 'l', 'l', 'l', 'l', 'l', 'l', 'l', 'l', 'l', 'l', 'l', 'l', 'l', 'l', 'l', 'l', 'l', 'l', 'l', 'l', 'l', 'l', 'l', 'l', 'l', 'l', 'l', 'l', 'l', 'l', 'l', 'l', 'l', 'l', 'l', 'l', 'l', 'l', 'l', 'l', 'l', 'l', 'l', 'l', 'l', 'l', 'l', 'l', 'l', 'l', 'l', 'l', 'l', 'l', 'l', 'l', 'l', 'l', 'l', 'l', 'l', 'l', 'l', 'l', 'l', 'l', 'l', 'l', 'l', 'l', 'l', 'l', 'l', 'l', 'l', 'l', 'l', 'l', 'l'] [0 0 0 0 0 0 0 0 0 0 0 0 0 0 0 0 0 0 0 0 0 0 0 0 0 0 0 0 0 0 0 0 0 0 0 0 0\n",
      " 0 0 0 0 0 0 0 0 0 0 0 0 0 0 0 0 0 0 0 0 0 0 0 0 0 0 0 0 0 0 0 0 0 0 0 0 0\n",
      " 0 0 0 0 0 0 0 0 0 0 0 0 0 0 0 0 0 0 0 0 0 0]\n"
     ]
    }
   ],
   "source": [
    "data = spg.get_symmetry_dataset(dd)\n",
    "print data['number'],data['wyckoffs'],data['equivalent_atoms']\n"
   ]
  },
  {
   "cell_type": "code",
   "execution_count": 12,
   "metadata": {},
   "outputs": [],
   "source": [
    "def generate_crystal(sites_z):\n",
    "    crystal, sg, wyckoff_letters = input2crystal(sites_z)\n",
    "    \n",
    "    crystal = unskewCell(crystal)\n",
    "    \n",
    "    crystal = LJ_vcrelax_alternative(crystal, isotropic_external_pressure=20, debug=True)\n",
    "    \n",
    "#     thr = np.min([z2Covalentradius[z] for z in sites_z])\n",
    "\n",
    "#     if isLayered(crystal,cutoff=thr*1.5, aspect_ratio=0.75):\n",
    "#         crystal = LJ_vcrelax_alternative(crystal, isotropic_external_pressure=2, debug=True)\n",
    "    \n",
    "    return crystal\n"
   ]
  },
  {
   "cell_type": "code",
   "execution_count": 13,
   "metadata": {},
   "outputs": [],
   "source": [
    "np.random.seed(10)\n",
    "cc = generate_crystal([14])"
   ]
  },
  {
   "cell_type": "code",
   "execution_count": 126,
   "metadata": {},
   "outputs": [
    {
     "name": "stdout",
     "output_type": "stream",
     "text": [
      "[13.53493621 13.53493621 13.53493621 90.         90.         90.        ]\n"
     ]
    }
   ],
   "source": [
    "print cc.get_cell_lengths_and_angles()\n",
    "view(cc)"
   ]
  },
  {
   "cell_type": "code",
   "execution_count": 14,
   "metadata": {},
   "outputs": [
    {
     "name": "stdout",
     "output_type": "stream",
     "text": [
      "229 ['l', 'l', 'l', 'l', 'l', 'l', 'l', 'l', 'l', 'l', 'l', 'l', 'l', 'l', 'l', 'l', 'l', 'l', 'l', 'l', 'l', 'l', 'l', 'l', 'l', 'l', 'l', 'l', 'l', 'l', 'l', 'l', 'l', 'l', 'l', 'l', 'l', 'l', 'l', 'l', 'l', 'l', 'l', 'l', 'l', 'l', 'l', 'l', 'l', 'l', 'l', 'l', 'l', 'l', 'l', 'l', 'l', 'l', 'l', 'l', 'l', 'l', 'l', 'l', 'l', 'l', 'l', 'l', 'l', 'l', 'l', 'l', 'l', 'l', 'l', 'l', 'l', 'l', 'l', 'l', 'l', 'l', 'l', 'l', 'l', 'l', 'l', 'l', 'l', 'l', 'l', 'l', 'l', 'l', 'l', 'l'] [0 0 0 0 0 0 0 0 0 0 0 0 0 0 0 0 0 0 0 0 0 0 0 0 0 0 0 0 0 0 0 0 0 0 0 0 0\n",
      " 0 0 0 0 0 0 0 0 0 0 0 0 0 0 0 0 0 0 0 0 0 0 0 0 0 0 0 0 0 0 0 0 0 0 0 0 0\n",
      " 0 0 0 0 0 0 0 0 0 0 0 0 0 0 0 0 0 0 0 0 0 0]\n"
     ]
    }
   ],
   "source": [
    "data = spg.get_symmetry_dataset(cc)\n",
    "print data['number'],data['wyckoffs'],data['equivalent_atoms']"
   ]
  },
  {
   "cell_type": "code",
   "execution_count": 25,
   "metadata": {
    "code_folding": [
     10,
     22,
     51
    ]
   },
   "outputs": [],
   "source": [
    "import multiprocessing as mp\n",
    "\n",
    "def func_wrapper(inp):\n",
    "    #np.random.rand()*\n",
    "    current = mp.current_process()\n",
    "    name = int(current._identity[0])\n",
    "    \n",
    "    return generate_crystal(**inp)\n",
    "        \n",
    "class mp_gen(object):\n",
    "    def __init__(self, chunks, nprocess,dispbar=False):\n",
    "        super(mp_gen, self).__init__()\n",
    "        \n",
    "            \n",
    "        self.func_wrap = func_wrapper\n",
    "        self.dispbar = dispbar\n",
    "        self.parent_id = os.getpid()\n",
    "        self.nprocess = nprocess\n",
    "\n",
    "        \n",
    "        self.chunks = chunks\n",
    "\n",
    "    def run(self):\n",
    "        Nit = len(self.chunks)\n",
    "        pbar = tqdm_notebook(total=Nit,desc='',disable=self.dispbar)\n",
    "        results = []\n",
    "        if self.nprocess > 1:\n",
    "            pool = mp.Pool(self.nprocess, initializer=self.worker_init,\n",
    "                                maxtasksperchild=10)\n",
    "\n",
    "            for res in pool.imap_unordered(self.func_wrap, self.chunks):\n",
    "                results.append(res)\n",
    "                pbar.update()\n",
    "\n",
    "            pool.close()\n",
    "            pool.join()\n",
    "\n",
    "        elif self.nprocess == 1:\n",
    "            for chunk in self.chunks:\n",
    "                res = self.func_wrap(chunk)\n",
    "                results.append(res)\n",
    "\n",
    "                pbar.update()\n",
    "        else:\n",
    "            print 'Nproces: ',self.nprocess\n",
    "            raise NotImplementedError('need at least 1 process')\n",
    "\n",
    "        pbar.close()\n",
    "\n",
    "        return results\n",
    "    # clean kill of the pool in interactive sessions\n",
    "    def worker_init(self):\n",
    "        \n",
    "        def sig_int(signal_num, frame):\n",
    "            print('signal: %s' % signal_num)\n",
    "            parent = psutil.Process(self.parent_id)\n",
    "            for child in parent.children():\n",
    "                if child.pid != os.getpid():\n",
    "                    print(\"killing child: %s\" % child.pid)\n",
    "                    child.kill()\n",
    "            print(\"killing parent: %s\" % self.parent_id)\n",
    "            parent.kill()\n",
    "            print(\"suicide: %s\" % os.getpid())\n",
    "            psutil.Process(os.getpid()).kill()\n",
    "\n",
    "        signal.signal(signal.SIGINT, sig_int)"
   ]
  },
  {
   "cell_type": "code",
   "execution_count": 26,
   "metadata": {},
   "outputs": [
    {
     "data": {
      "application/vnd.jupyter.widget-view+json": {
       "model_id": "f68c8846a1f841f89dabc8e209bd3936",
       "version_major": 2,
       "version_minor": 0
      },
      "text/html": [
       "<p>Failed to display Jupyter Widget of type <code>HBox</code>.</p>\n",
       "<p>\n",
       "  If you're reading this message in the Jupyter Notebook or JupyterLab Notebook, it may mean\n",
       "  that the widgets JavaScript is still loading. If this message persists, it\n",
       "  likely means that the widgets JavaScript library is either not installed or\n",
       "  not enabled. See the <a href=\"https://ipywidgets.readthedocs.io/en/stable/user_install.html\">Jupyter\n",
       "  Widgets Documentation</a> for setup instructions.\n",
       "</p>\n",
       "<p>\n",
       "  If you're reading this message in another frontend (for example, a static\n",
       "  rendering on GitHub or <a href=\"https://nbviewer.jupyter.org/\">NBViewer</a>),\n",
       "  it may mean that your frontend doesn't currently support widgets.\n",
       "</p>\n"
      ],
      "text/plain": [
       "HBox(children=(IntProgress(value=0, max=10), HTML(value=u'')))"
      ]
     },
     "metadata": {},
     "output_type": "display_data"
    }
   ],
   "source": [
    "sites_z = [14]\n",
    "nprocess = 2\n",
    "seed = 10\n",
    "np.random.seed(seed)\n",
    "pool = mp_gen([dict(sites_z=sites_z) for it in range(10)],nprocess=1,dispbar=False)\n",
    "\n",
    "new_cc = pool.run()"
   ]
  },
  {
   "cell_type": "code",
   "execution_count": 27,
   "metadata": {},
   "outputs": [],
   "source": [
    "view(new_cc)"
   ]
  },
  {
   "cell_type": "code",
   "execution_count": 19,
   "metadata": {},
   "outputs": [],
   "source": [
    "view(new_cc[6])"
   ]
  },
  {
   "cell_type": "code",
   "execution_count": 21,
   "metadata": {},
   "outputs": [],
   "source": [
    "cc = new_cc[6]\n",
    "ncc = LJ_vcrelax_alternative(cc,isotropic_external_pressure=20,debug=False)\n"
   ]
  },
  {
   "cell_type": "code",
   "execution_count": 42,
   "metadata": {},
   "outputs": [],
   "source": [
    "view(ncc)"
   ]
  },
  {
   "cell_type": "code",
   "execution_count": 25,
   "metadata": {},
   "outputs": [
    {
     "name": "stdout",
     "output_type": "stream",
     "text": [
      "[1 1 1]\n",
      "[1, 2, 3]\n",
      "[2, 3]\n",
      "[3]\n",
      "[]\n",
      "[]\n"
     ]
    },
    {
     "data": {
      "text/plain": [
       "False"
      ]
     },
     "execution_count": 25,
     "metadata": {},
     "output_type": "execute_result"
    }
   ],
   "source": [
    "thr = np.min([z2Covalentradius[z] for z in sites_z])\n",
    "isLayered(ncc, cutoff=thr * 1.5, aspect_ratio=0.75,debug=True)"
   ]
  },
  {
   "cell_type": "code",
   "execution_count": 43,
   "metadata": {},
   "outputs": [
    {
     "name": "stdout",
     "output_type": "stream",
     "text": [
      "[False False False] False\n",
      "[False False False] False\n",
      "[False False False] True\n"
     ]
    }
   ],
   "source": [
    "aspect_ratio=0.75\n",
    "crystal = ncc\n",
    "length = crystal.get_cell_lengths_and_angles()[:3]\n",
    "scaled = crystal.get_scaled_positions()\n",
    "rr = np.ones(3, int)\n",
    "\n",
    "for it in range(3):\n",
    "    min,max = np.min(scaled[:,it]),np.max(scaled[:,it])\n",
    "    mask2 = (max-min) < (1-aspect_ratio)\n",
    "    mask = length / length[it] < aspect_ratio\n",
    "    print mask,mask2\n",
    "    if np.any(mask) or mask2:\n",
    "        rr[it] = 2"
   ]
  },
  {
   "cell_type": "code",
   "execution_count": 46,
   "metadata": {},
   "outputs": [
    {
     "name": "stdout",
     "output_type": "stream",
     "text": [
      "0.9999999999999175\n"
     ]
    }
   ],
   "source": [
    "print  np.max(scaled[:,0])-np.min(scaled[:,0])"
   ]
  },
  {
   "cell_type": "code",
   "execution_count": 36,
   "metadata": {},
   "outputs": [],
   "source": [
    "def get_density(crystal):\n",
    "    Na = crystal.get_number_of_atoms()\n",
    "    V = crystal.get_volume()\n",
    "    dens = float(Na)/V\n",
    "    return dens"
   ]
  },
  {
   "cell_type": "code",
   "execution_count": 39,
   "metadata": {},
   "outputs": [
    {
     "data": {
      "text/plain": [
       "[<matplotlib.lines.Line2D at 0x7f0b85a3fc10>]"
      ]
     },
     "execution_count": 39,
     "metadata": {},
     "output_type": "execute_result"
    },
    {
     "data": {
      "image/png": "[encoded data removed]",
      "text/plain": [
       "<matplotlib.figure.Figure at 0x7f0b830fa610>"
      ]
     },
     "metadata": {},
     "output_type": "display_data"
    }
   ],
   "source": [
    "plt.plot([get_density(cc) for cc in crystals],'ob',ms=1)"
   ]
  },
  {
   "cell_type": "code",
   "execution_count": 41,
   "metadata": {},
   "outputs": [],
   "source": [
    "view(crystals[it] for it in [0])"
   ]
  },
  {
   "cell_type": "code",
   "execution_count": 30,
   "metadata": {},
   "outputs": [
    {
     "name": "stdout",
     "output_type": "stream",
     "text": [
      "[1.         1.         1.14006449]\n",
      "[1.         1.         1.14006449]\n",
      "[0.87714336 0.87714336 1.        ]\n"
     ]
    }
   ],
   "source": [
    "for it in range(3):\n",
    "    print length / length[it]\n",
    "    "
   ]
  },
  {
   "cell_type": "code",
   "execution_count": null,
   "metadata": {
    "code_folding": []
   },
   "outputs": [
    {
     "data": {
      "application/vnd.jupyter.widget-view+json": {
       "model_id": "2358af04da4a412e8427a9316abce2a9",
       "version_major": 2,
       "version_minor": 0
      },
      "text/html": [
       "<p>Failed to display Jupyter Widget of type <code>HBox</code>.</p>\n",
       "<p>\n",
       "  If you're reading this message in the Jupyter Notebook or JupyterLab Notebook, it may mean\n",
       "  that the widgets JavaScript is still loading. If this message persists, it\n",
       "  likely means that the widgets JavaScript library is either not installed or\n",
       "  not enabled. See the <a href=\"https://ipywidgets.readthedocs.io/en/stable/user_install.html\">Jupyter\n",
       "  Widgets Documentation</a> for setup instructions.\n",
       "</p>\n",
       "<p>\n",
       "  If you're reading this message in another frontend (for example, a static\n",
       "  rendering on GitHub or <a href=\"https://nbviewer.jupyter.org/\">NBViewer</a>),\n",
       "  it may mean that your frontend doesn't currently support widgets.\n",
       "</p>\n"
      ],
      "text/plain": [
       "HBox(children=(IntProgress(value=0, max=500), HTML(value=u'')))"
      ]
     },
     "metadata": {},
     "output_type": "display_data"
    },
    {
     "name": "stdout",
     "output_type": "stream",
     "text": [
      "signal: 2\n",
      "killing child: 29580\n",
      "killing child: 29582\n",
      "killing child: 29583\n"
     ]
    }
   ],
   "source": [
    "#%%time\n",
    "\n",
    "sites_z = [14]\n",
    "nprocess = 1\n",
    "\n",
    "pool = mp_gen([sites_z for it in range(500)],nprocess=nprocess,dispbar=False)\n",
    "\n",
    "new_cc = pool.run()\n",
    "# for it in tqdm_notebook(range(500)):\n",
    "#     cc, sg, wyckoff_letters = input2crystal(sites_z)\n",
    "#     ee = LJ_vcrelax_alternative(cc,isotropic_external_pressure=1e-2,debug=True)\n",
    "#     new_cc.append(ee)\n",
    "\n",
    "soap_params = dict(nmax= 9, cutoff= 4, gaussian_width= 0.4, lmax= 9,\n",
    "        centerweight = 1.,cutoff_transition_width = 0.5,\n",
    "        nocenters = [],is_fast_average=True,chem_channels=False,dispbar=True\n",
    "                      )\n",
    "\n",
    "\n",
    "new_crystals = []\n",
    "new_crystals.extend(crystals)\n",
    "new_crystals.extend(new_cc)\n",
    "\n",
    "fings = get_fingerprints([ase2qp(crystal) for crystal in new_crystals],soap_params,nprocess)\n",
    "kernel = np.dot(fings,fings.T)\n",
    "\n",
    "fps_ids, minmax = fpsSelection_with_restart(data=kernel,distance_func=distance_func2,restart_ref=None,\n",
    "                                            disable_pbar=True,nthread=10,\n",
    "                              intermediate_copy=True,stride=10000,threshold=5e-3,Nmin=0,\n",
    "                                            Nmax=kernel.shape[0],seed=None,fn=None)\n",
    "\n",
    "new_crystals = [new_crystals[it] for it in fps_ids]\n"
   ]
  },
  {
   "cell_type": "code",
   "execution_count": 36,
   "metadata": {},
   "outputs": [],
   "source": [
    "from libs.io import Frame_Dataset_h5\n",
    "from glob import glob"
   ]
  },
  {
   "cell_type": "code",
   "execution_count": 37,
   "metadata": {},
   "outputs": [],
   "source": [
    "fns = glob('./structures/relaxed_structures_r*')\n",
    "readers = []\n",
    "for fn in fns:\n",
    "    readers.append(Frame_Dataset_h5(fn,mode='r'))"
   ]
  },
  {
   "cell_type": "code",
   "execution_count": 38,
   "metadata": {},
   "outputs": [
    {
     "data": {
      "application/vnd.jupyter.widget-view+json": {
       "model_id": "27b57e72f1114cc1a80feb3fe5180567",
       "version_major": 2,
       "version_minor": 0
      },
      "text/html": [
       "<p>Failed to display Jupyter Widget of type <code>HBox</code>.</p>\n",
       "<p>\n",
       "  If you're reading this message in the Jupyter Notebook or JupyterLab Notebook, it may mean\n",
       "  that the widgets JavaScript is still loading. If this message persists, it\n",
       "  likely means that the widgets JavaScript library is either not installed or\n",
       "  not enabled. See the <a href=\"https://ipywidgets.readthedocs.io/en/stable/user_install.html\">Jupyter\n",
       "  Widgets Documentation</a> for setup instructions.\n",
       "</p>\n",
       "<p>\n",
       "  If you're reading this message in another frontend (for example, a static\n",
       "  rendering on GitHub or <a href=\"https://nbviewer.jupyter.org/\">NBViewer</a>),\n",
       "  it may mean that your frontend doesn't currently support widgets.\n",
       "</p>\n"
      ],
      "text/plain": [
       "HBox(children=(IntProgress(value=0, description=u'Load frames', max=18), HTML(value=u'')))"
      ]
     },
     "metadata": {},
     "output_type": "display_data"
    },
    {
     "name": "stdout",
     "output_type": "stream",
     "text": [
      "\n"
     ]
    },
    {
     "data": {
      "application/vnd.jupyter.widget-view+json": {
       "model_id": "c3d47d890cad45a89995d8bc4f9c9fd2",
       "version_major": 2,
       "version_minor": 0
      },
      "text/html": [
       "<p>Failed to display Jupyter Widget of type <code>HBox</code>.</p>\n",
       "<p>\n",
       "  If you're reading this message in the Jupyter Notebook or JupyterLab Notebook, it may mean\n",
       "  that the widgets JavaScript is still loading. If this message persists, it\n",
       "  likely means that the widgets JavaScript library is either not installed or\n",
       "  not enabled. See the <a href=\"https://ipywidgets.readthedocs.io/en/stable/user_install.html\">Jupyter\n",
       "  Widgets Documentation</a> for setup instructions.\n",
       "</p>\n",
       "<p>\n",
       "  If you're reading this message in another frontend (for example, a static\n",
       "  rendering on GitHub or <a href=\"https://nbviewer.jupyter.org/\">NBViewer</a>),\n",
       "  it may mean that your frontend doesn't currently support widgets.\n",
       "</p>\n"
      ],
      "text/plain": [
       "HBox(children=(IntProgress(value=0, description=u'Load frames', max=51), HTML(value=u'')))"
      ]
     },
     "metadata": {},
     "output_type": "display_data"
    },
    {
     "name": "stdout",
     "output_type": "stream",
     "text": [
      "\n"
     ]
    },
    {
     "data": {
      "application/vnd.jupyter.widget-view+json": {
       "model_id": "644c8fb876fe4f14b2efa45dcf1e46fb",
       "version_major": 2,
       "version_minor": 0
      },
      "text/html": [
       "<p>Failed to display Jupyter Widget of type <code>HBox</code>.</p>\n",
       "<p>\n",
       "  If you're reading this message in the Jupyter Notebook or JupyterLab Notebook, it may mean\n",
       "  that the widgets JavaScript is still loading. If this message persists, it\n",
       "  likely means that the widgets JavaScript library is either not installed or\n",
       "  not enabled. See the <a href=\"https://ipywidgets.readthedocs.io/en/stable/user_install.html\">Jupyter\n",
       "  Widgets Documentation</a> for setup instructions.\n",
       "</p>\n",
       "<p>\n",
       "  If you're reading this message in another frontend (for example, a static\n",
       "  rendering on GitHub or <a href=\"https://nbviewer.jupyter.org/\">NBViewer</a>),\n",
       "  it may mean that your frontend doesn't currently support widgets.\n",
       "</p>\n"
      ],
      "text/plain": [
       "HBox(children=(IntProgress(value=0, description=u'Load frames', max=31), HTML(value=u'')))"
      ]
     },
     "metadata": {},
     "output_type": "display_data"
    },
    {
     "name": "stdout",
     "output_type": "stream",
     "text": [
      "\n"
     ]
    }
   ],
   "source": [
    "frames = []\n",
    "for reader in readers:\n",
    "    frames.extend(reader.load_frames().values())\n",
    "view(frames)"
   ]
  },
  {
   "cell_type": "code",
   "execution_count": 43,
   "metadata": {},
   "outputs": [
    {
     "data": {
      "application/vnd.jupyter.widget-view+json": {
       "model_id": "0b33bbaf5fc34a39a41f898a4a95c5da",
       "version_major": 2,
       "version_minor": 0
      },
      "text/html": [
       "<p>Failed to display Jupyter Widget of type <code>HBox</code>.</p>\n",
       "<p>\n",
       "  If you're reading this message in the Jupyter Notebook or JupyterLab Notebook, it may mean\n",
       "  that the widgets JavaScript is still loading. If this message persists, it\n",
       "  likely means that the widgets JavaScript library is either not installed or\n",
       "  not enabled. See the <a href=\"https://ipywidgets.readthedocs.io/en/stable/user_install.html\">Jupyter\n",
       "  Widgets Documentation</a> for setup instructions.\n",
       "</p>\n",
       "<p>\n",
       "  If you're reading this message in another frontend (for example, a static\n",
       "  rendering on GitHub or <a href=\"https://nbviewer.jupyter.org/\">NBViewer</a>),\n",
       "  it may mean that your frontend doesn't currently support widgets.\n",
       "</p>\n"
      ],
      "text/plain": [
       "HBox(children=(IntProgress(value=0, description=u'Load frames', max=18), HTML(value=u'')))"
      ]
     },
     "metadata": {},
     "output_type": "display_data"
    },
    {
     "name": "stdout",
     "output_type": "stream",
     "text": [
      "\n"
     ]
    },
    {
     "data": {
      "application/vnd.jupyter.widget-view+json": {
       "model_id": "2ea04426e4a949a9a566857a52c7a970",
       "version_major": 2,
       "version_minor": 0
      },
      "text/html": [
       "<p>Failed to display Jupyter Widget of type <code>HBox</code>.</p>\n",
       "<p>\n",
       "  If you're reading this message in the Jupyter Notebook or JupyterLab Notebook, it may mean\n",
       "  that the widgets JavaScript is still loading. If this message persists, it\n",
       "  likely means that the widgets JavaScript library is either not installed or\n",
       "  not enabled. See the <a href=\"https://ipywidgets.readthedocs.io/en/stable/user_install.html\">Jupyter\n",
       "  Widgets Documentation</a> for setup instructions.\n",
       "</p>\n",
       "<p>\n",
       "  If you're reading this message in another frontend (for example, a static\n",
       "  rendering on GitHub or <a href=\"https://nbviewer.jupyter.org/\">NBViewer</a>),\n",
       "  it may mean that your frontend doesn't currently support widgets.\n",
       "</p>\n"
      ],
      "text/plain": [
       "HBox(children=(IntProgress(value=0, description=u'Load frames', max=51), HTML(value=u'')))"
      ]
     },
     "metadata": {},
     "output_type": "display_data"
    },
    {
     "name": "stdout",
     "output_type": "stream",
     "text": [
      "\n"
     ]
    },
    {
     "data": {
      "application/vnd.jupyter.widget-view+json": {
       "model_id": "86e930294cb54152890186d2b18ba090",
       "version_major": 2,
       "version_minor": 0
      },
      "text/html": [
       "<p>Failed to display Jupyter Widget of type <code>HBox</code>.</p>\n",
       "<p>\n",
       "  If you're reading this message in the Jupyter Notebook or JupyterLab Notebook, it may mean\n",
       "  that the widgets JavaScript is still loading. If this message persists, it\n",
       "  likely means that the widgets JavaScript library is either not installed or\n",
       "  not enabled. See the <a href=\"https://ipywidgets.readthedocs.io/en/stable/user_install.html\">Jupyter\n",
       "  Widgets Documentation</a> for setup instructions.\n",
       "</p>\n",
       "<p>\n",
       "  If you're reading this message in another frontend (for example, a static\n",
       "  rendering on GitHub or <a href=\"https://nbviewer.jupyter.org/\">NBViewer</a>),\n",
       "  it may mean that your frontend doesn't currently support widgets.\n",
       "</p>\n"
      ],
      "text/plain": [
       "HBox(children=(IntProgress(value=0, description=u'Load frames', max=31), HTML(value=u'')))"
      ]
     },
     "metadata": {},
     "output_type": "display_data"
    },
    {
     "name": "stdout",
     "output_type": "stream",
     "text": [
      "\n"
     ]
    }
   ],
   "source": [
    "inputs = []\n",
    "for reader in readers:\n",
    "    inputs.extend(reader.get_inputs().values())\n",
    "view([cc for (cc,_) in inputs])"
   ]
  },
  {
   "cell_type": "code",
   "execution_count": 14,
   "metadata": {},
   "outputs": [],
   "source": [
    "with open('./structures/structures_new.pck','rb') as f:\n",
    "    new_crystals = pck.load(f)"
   ]
  },
  {
   "cell_type": "code",
   "execution_count": 15,
   "metadata": {},
   "outputs": [
    {
     "name": "stdout",
     "output_type": "stream",
     "text": [
      "220 547\n"
     ]
    }
   ],
   "source": [
    "print len(crystals), len(new_crystals)"
   ]
  },
  {
   "cell_type": "code",
   "execution_count": 22,
   "metadata": {},
   "outputs": [],
   "source": [
    "view(crystals)"
   ]
  },
  {
   "cell_type": "code",
   "execution_count": 24,
   "metadata": {},
   "outputs": [
    {
     "name": "stdout",
     "output_type": "stream",
     "text": [
      "227 ['b', 'b', 'b', 'b', 'b', 'b', 'b', 'b'] [0 0 0 0 0 0 0 0]\n"
     ]
    }
   ],
   "source": [
    "cc = crystals[5]\n",
    "sym_data = spg.get_symmetry_dataset(cc)\n",
    "print sym_data['number'],sym_data['wyckoffs'],sym_data['equivalent_atoms']"
   ]
  },
  {
   "cell_type": "code",
   "execution_count": 25,
   "metadata": {},
   "outputs": [],
   "source": [
    "view(get_standard_frame(cc,to_primitive=True,symprec=1e-5))"
   ]
  },
  {
   "cell_type": "code",
   "execution_count": 26,
   "metadata": {
    "scrolled": true
   },
   "outputs": [
    {
     "name": "stderr",
     "output_type": "stream",
     "text": [
      "[autoreload of h5py failed: Traceback (most recent call last):\n",
      "  File \"/home/musil/miniconda/envs/glosim/lib/python2.7/site-packages/IPython/extensions/autoreload.py\", line 247, in check\n",
      "    superreload(m, reload, self.old_objects)\n",
      "ImportError: cannot import name _errors\n",
      "]\n",
      "[autoreload of h5py.version failed: Traceback (most recent call last):\n",
      "  File \"/home/musil/miniconda/envs/glosim/lib/python2.7/site-packages/IPython/extensions/autoreload.py\", line 247, in check\n",
      "    superreload(m, reload, self.old_objects)\n",
      "AttributeError: 'module' object has no attribute 'HDF5_VERSION_COMPILED_AGAINST'\n",
      "]\n",
      "[autoreload of h5py.tests.hl failed: Traceback (most recent call last):\n",
      "  File \"/home/musil/miniconda/envs/glosim/lib/python2.7/site-packages/IPython/extensions/autoreload.py\", line 247, in check\n",
      "    superreload(m, reload, self.old_objects)\n",
      "ImportError: cannot import name test_dataset_getitem\n",
      "]\n",
      "[autoreload of h5py.tests failed: Traceback (most recent call last):\n",
      "  File \"/home/musil/miniconda/envs/glosim/lib/python2.7/site-packages/IPython/extensions/autoreload.py\", line 247, in check\n",
      "    superreload(m, reload, self.old_objects)\n",
      "ImportError: cannot import name old\n",
      "]\n",
      "[autoreload of h5py.highlevel failed: Traceback (most recent call last):\n",
      "  File \"/home/musil/miniconda/envs/glosim/lib/python2.7/site-packages/IPython/extensions/autoreload.py\", line 247, in check\n",
      "    superreload(m, reload, self.old_objects)\n",
      "ImportError: cannot import name filters\n",
      "]\n",
      "[autoreload of h5py.tests.old failed: Traceback (most recent call last):\n",
      "  File \"/home/musil/miniconda/envs/glosim/lib/python2.7/site-packages/IPython/extensions/autoreload.py\", line 247, in check\n",
      "    superreload(m, reload, self.old_objects)\n",
      "ImportError: cannot import name test_attrs\n",
      "]\n",
      "[autoreload of h5py._hl.dataset failed: Traceback (most recent call last):\n",
      "  File \"/home/musil/miniconda/envs/glosim/lib/python2.7/site-packages/IPython/extensions/autoreload.py\", line 247, in check\n",
      "    superreload(m, reload, self.old_objects)\n",
      "ImportError: cannot import name filters\n",
      "]\n",
      "[autoreload of h5py._hl.attrs failed: Traceback (most recent call last):\n",
      "  File \"/home/musil/miniconda/envs/glosim/lib/python2.7/site-packages/IPython/extensions/autoreload.py\", line 247, in check\n",
      "    superreload(m, reload, self.old_objects)\n",
      "ImportError: cannot import name base\n",
      "]\n",
      "[autoreload of h5py._hl.group failed: Traceback (most recent call last):\n",
      "  File \"/home/musil/miniconda/envs/glosim/lib/python2.7/site-packages/IPython/extensions/autoreload.py\", line 247, in check\n",
      "    superreload(m, reload, self.old_objects)\n",
      "ImportError: cannot import name base\n",
      "]\n"
     ]
    }
   ],
   "source": [
    "new_crystals = [new_crystals[it] for it in fps_ids[:250]]"
   ]
  },
  {
   "cell_type": "code",
   "execution_count": 16,
   "metadata": {},
   "outputs": [
    {
     "data": {
      "application/vnd.jupyter.widget-view+json": {
       "model_id": "a92f5047e6d440cf89932db734da41bb",
       "version_major": 2,
       "version_minor": 0
      },
      "text/html": [
       "<p>Failed to display Jupyter Widget of type <code>HBox</code>.</p>\n",
       "<p>\n",
       "  If you're reading this message in the Jupyter Notebook or JupyterLab Notebook, it may mean\n",
       "  that the widgets JavaScript is still loading. If this message persists, it\n",
       "  likely means that the widgets JavaScript library is either not installed or\n",
       "  not enabled. See the <a href=\"https://ipywidgets.readthedocs.io/en/stable/user_install.html\">Jupyter\n",
       "  Widgets Documentation</a> for setup instructions.\n",
       "</p>\n",
       "<p>\n",
       "  If you're reading this message in another frontend (for example, a static\n",
       "  rendering on GitHub or <a href=\"https://nbviewer.jupyter.org/\">NBViewer</a>),\n",
       "  it may mean that your frontend doesn't currently support widgets.\n",
       "</p>\n"
      ],
      "text/plain": [
       "HBox(children=(IntProgress(value=0, description=u'SOAP vectors', max=547), HTML(value=u'')))"
      ]
     },
     "metadata": {},
     "output_type": "display_data"
    },
    {
     "name": "stdout",
     "output_type": "stream",
     "text": [
      "\n"
     ]
    }
   ],
   "source": [
    "soap_params = dict(nmax= 9, cutoff= 4, gaussian_width= 0.4, lmax= 9,\n",
    "        centerweight = 1.,cutoff_transition_width = 0.5,\n",
    "        nocenters = [],is_fast_average=True,chem_channels=False,dispbar=False\n",
    "                      )\n",
    "nprocess = 4\n",
    "\n",
    "fings = get_fingerprints([ase2qp(crystal) for crystal in new_crystals],soap_params,nprocess)"
   ]
  },
  {
   "cell_type": "code",
   "execution_count": 17,
   "metadata": {},
   "outputs": [],
   "source": [
    "kernel = np.dot(fings,fings.T)"
   ]
  },
  {
   "cell_type": "code",
   "execution_count": 18,
   "metadata": {},
   "outputs": [
    {
     "data": {
      "application/vnd.jupyter.widget-view+json": {
       "model_id": "b627e6d49bfa4bf19f3b02d4147ab247",
       "version_major": 2,
       "version_minor": 0
      },
      "text/html": [
       "<p>Failed to display Jupyter Widget of type <code>HBox</code>.</p>\n",
       "<p>\n",
       "  If you're reading this message in the Jupyter Notebook or JupyterLab Notebook, it may mean\n",
       "  that the widgets JavaScript is still loading. If this message persists, it\n",
       "  likely means that the widgets JavaScript library is either not installed or\n",
       "  not enabled. See the <a href=\"https://ipywidgets.readthedocs.io/en/stable/user_install.html\">Jupyter\n",
       "  Widgets Documentation</a> for setup instructions.\n",
       "</p>\n",
       "<p>\n",
       "  If you're reading this message in another frontend (for example, a static\n",
       "  rendering on GitHub or <a href=\"https://nbviewer.jupyter.org/\">NBViewer</a>),\n",
       "  it may mean that your frontend doesn't currently support widgets.\n",
       "</p>\n"
      ],
      "text/plain": [
       "HBox(children=(IntProgress(value=0, max=547), HTML(value=u'')))"
      ]
     },
     "metadata": {},
     "output_type": "display_data"
    },
    {
     "name": "stdout",
     "output_type": "stream",
     "text": [
      "\n"
     ]
    }
   ],
   "source": [
    "fps_ids, minmax = fpsSelection_with_restart(data=kernel,distance_func=distance_func2,restart_ref=None,disable_pbar=False,nthread=10,\n",
    "                              intermediate_copy=True,stride=10000,threshold=1e-9,Nmin=0,Nmax=kernel.shape[0],seed=None,\n",
    "                                           fn=None)"
   ]
  },
  {
   "cell_type": "code",
   "execution_count": 19,
   "metadata": {},
   "outputs": [
    {
     "data": {
      "image/png": "[encoded data removed]",
      "text/plain": [
       "<matplotlib.figure.Figure at 0x7fa3ea8f1790>"
      ]
     },
     "metadata": {},
     "output_type": "display_data"
    }
   ],
   "source": [
    "plt.plot(minmax[:],'ob',ms=1)\n",
    "plt.yscale('log')"
   ]
  },
  {
   "cell_type": "code",
   "execution_count": 20,
   "metadata": {},
   "outputs": [],
   "source": [
    "from sklearn.manifold import TSNE\n",
    "import hdbscan"
   ]
  },
  {
   "cell_type": "code",
   "execution_count": 21,
   "metadata": {},
   "outputs": [],
   "source": [
    "distance = distance_func2(kernel)"
   ]
  },
  {
   "cell_type": "code",
   "execution_count": 22,
   "metadata": {},
   "outputs": [],
   "source": [
    "tsne = TSNE(n_components=2, perplexity=30.0, early_exaggeration=12.0, \n",
    "     learning_rate=200.0, n_iter=1000, metric='precomputed')"
   ]
  },
  {
   "cell_type": "code",
   "execution_count": 23,
   "metadata": {},
   "outputs": [],
   "source": [
    "X = tsne.fit_transform(distance)"
   ]
  },
  {
   "cell_type": "code",
   "execution_count": 24,
   "metadata": {},
   "outputs": [
    {
     "name": "stdout",
     "output_type": "stream",
     "text": [
      "10\n"
     ]
    }
   ],
   "source": [
    "clusterer = hdbscan.HDBSCAN(algorithm='best', alpha=1.0, approx_min_span_tree=True,\n",
    "    gen_min_span_tree=False, leaf_size=40, \n",
    "    metric='precomputed', min_cluster_size=10, min_samples=None, p=None)\n",
    "clusterer.fit(distance)\n",
    "print len(np.unique(clusterer.labels_))"
   ]
  },
  {
   "cell_type": "code",
   "execution_count": 25,
   "metadata": {},
   "outputs": [
    {
     "data": {
      "text/plain": [
       "<matplotlib.collections.PathCollection at 0x7fa3ea84edd0>"
      ]
     },
     "execution_count": 25,
     "metadata": {},
     "output_type": "execute_result"
    },
    {
     "data": {
      "image/png": "[encoded data removed]",
      "text/plain": [
       "<matplotlib.figure.Figure at 0x7fa3ea8f1650>"
      ]
     },
     "metadata": {},
     "output_type": "display_data"
    }
   ],
   "source": [
    "color_palette = sns.color_palette('deep', 10)\n",
    "cluster_colors = [color_palette[x] if x >= 0\n",
    "                  else (0.5, 0.5, 0.5)\n",
    "                  for x in clusterer.labels_]\n",
    "cluster_member_colors = [sns.desaturate(x, p) for x, p in\n",
    "                         zip(cluster_colors, clusterer.probabilities_)]\n",
    "plt.scatter(*X.T, s=50, linewidth=0, c=cluster_member_colors, alpha=0.25)"
   ]
  },
  {
   "cell_type": "code",
   "execution_count": null,
   "metadata": {},
   "outputs": [],
   "source": []
  }
 ],
 "metadata": {
  "kernelspec": {
   "display_name": "Python 2 glosim",
   "language": "python",
   "name": "glosim"
  },
  "language_info": {
   "codemirror_mode": {
    "name": "ipython",
    "version": 2
   },
   "file_extension": ".py",
   "mimetype": "text/x-python",
   "name": "python",
   "nbconvert_exporter": "python",
   "pygments_lexer": "ipython2",
   "version": "2.7.14"
  }
 },
 "nbformat": 4,
 "nbformat_minor": 2
}
